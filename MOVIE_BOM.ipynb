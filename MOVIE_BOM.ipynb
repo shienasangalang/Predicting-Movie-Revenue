{
 "cells": [
  {
   "cell_type": "code",
   "execution_count": 1,
   "metadata": {},
   "outputs": [],
   "source": [
    "# IMPORT GENERIC PACKAGES\n",
    "import numpy as np # numerical calc package\n",
    "import pandas as pd # holds data\n",
    "import matplotlib.pyplot as plt # plotting library\n",
    "import seaborn as sns # pretty plotting\n",
    "\n",
    "# plotting config\n",
    "sns.set(style='white', rc={'figure.figsize':(20,10)})\n",
    "\n",
    "from sklearn.linear_model import LinearRegression # linear regression package\n",
    "from sklearn.model_selection import train_test_split # split dataset\n",
    "from sklearn.metrics import mean_squared_error as mse # Measurement metric\n",
    "from sklearn.metrics import mean_absolute_error as mae"
   ]
  },
  {
   "cell_type": "code",
   "execution_count": 2,
   "metadata": {},
   "outputs": [],
   "source": [
    "# read data into a DataFrame\n",
    "data = pd.read_csv('bom_final_f.csv')"
   ]
  },
  {
   "cell_type": "code",
   "execution_count": 3,
   "metadata": {},
   "outputs": [
    {
     "data": {
      "text/html": [
       "<div>\n",
       "<style scoped>\n",
       "    .dataframe tbody tr th:only-of-type {\n",
       "        vertical-align: middle;\n",
       "    }\n",
       "\n",
       "    .dataframe tbody tr th {\n",
       "        vertical-align: top;\n",
       "    }\n",
       "\n",
       "    .dataframe thead th {\n",
       "        text-align: right;\n",
       "    }\n",
       "</style>\n",
       "<table border=\"1\" class=\"dataframe\">\n",
       "  <thead>\n",
       "    <tr style=\"text-align: right;\">\n",
       "      <th></th>\n",
       "      <th>Title</th>\n",
       "      <th>plot</th>\n",
       "      <th>gross</th>\n",
       "      <th>distributor</th>\n",
       "      <th>budget</th>\n",
       "      <th>released_data</th>\n",
       "      <th>Field5</th>\n",
       "      <th>runtime</th>\n",
       "      <th>genre_1</th>\n",
       "      <th>genre_2</th>\n",
       "      <th>genre_3</th>\n",
       "      <th>genre_4</th>\n",
       "      <th>Unnamed: 12</th>\n",
       "    </tr>\n",
       "  </thead>\n",
       "  <tbody>\n",
       "    <tr>\n",
       "      <td>0</td>\n",
       "      <td>Avengers: Endgame</td>\n",
       "      <td>After the devastating events of Avengers: Infi...</td>\n",
       "      <td>32839486</td>\n",
       "      <td>Walt Disney Studios Motion Pictures</td>\n",
       "      <td>356000000.0</td>\n",
       "      <td>4/24/2019</td>\n",
       "      <td>PG-13</td>\n",
       "      <td>181</td>\n",
       "      <td>Action</td>\n",
       "      <td>Adventure</td>\n",
       "      <td>Drama</td>\n",
       "      <td>Sci-Fi</td>\n",
       "      <td>NaN</td>\n",
       "    </tr>\n",
       "    <tr>\n",
       "      <td>1</td>\n",
       "      <td>Beauty and the Beast</td>\n",
       "      <td>A selfish prince is cursed to become a monster...</td>\n",
       "      <td>13501376</td>\n",
       "      <td>Walt Disney Studios Motion Pictures</td>\n",
       "      <td>160000000.0</td>\n",
       "      <td>3/16/2017</td>\n",
       "      <td>PG</td>\n",
       "      <td>129</td>\n",
       "      <td>Family</td>\n",
       "      <td>Fantasy</td>\n",
       "      <td>Musical</td>\n",
       "      <td>Romance</td>\n",
       "      <td>NaN</td>\n",
       "    </tr>\n",
       "    <tr>\n",
       "      <td>2</td>\n",
       "      <td>Spider-Man: Far from Home</td>\n",
       "      <td>Following the events of Avengers: Endgame, Spi...</td>\n",
       "      <td>10578935</td>\n",
       "      <td>Sony Pictures Releasing</td>\n",
       "      <td>160000000.0</td>\n",
       "      <td>7/3/2019</td>\n",
       "      <td>PG-13</td>\n",
       "      <td>129</td>\n",
       "      <td>Action</td>\n",
       "      <td>Adventure</td>\n",
       "      <td>Sci-Fi</td>\n",
       "      <td>NaN</td>\n",
       "      <td>NaN</td>\n",
       "    </tr>\n",
       "    <tr>\n",
       "      <td>3</td>\n",
       "      <td>Jurassic World</td>\n",
       "      <td>A new theme park, built on the original site o...</td>\n",
       "      <td>11121208</td>\n",
       "      <td>Universal Pictures International (UPI)</td>\n",
       "      <td>150000000.0</td>\n",
       "      <td>6/10/2015</td>\n",
       "      <td>PG-13</td>\n",
       "      <td>124</td>\n",
       "      <td>Action</td>\n",
       "      <td>Adventure</td>\n",
       "      <td>Sci-Fi</td>\n",
       "      <td>NaN</td>\n",
       "      <td>NaN</td>\n",
       "    </tr>\n",
       "    <tr>\n",
       "      <td>4</td>\n",
       "      <td>The Twilight Saga: Eclipse</td>\n",
       "      <td>As a string of mysterious killings grips Seatt...</td>\n",
       "      <td>6317882</td>\n",
       "      <td>Pioneer Films</td>\n",
       "      <td>68000000.0</td>\n",
       "      <td>6/30/2010</td>\n",
       "      <td>PG-13</td>\n",
       "      <td>124</td>\n",
       "      <td>Action</td>\n",
       "      <td>Drama</td>\n",
       "      <td>Fantasy</td>\n",
       "      <td>Romance</td>\n",
       "      <td>NaN</td>\n",
       "    </tr>\n",
       "  </tbody>\n",
       "</table>\n",
       "</div>"
      ],
      "text/plain": [
       "                        Title  \\\n",
       "0           Avengers: Endgame   \n",
       "1        Beauty and the Beast   \n",
       "2   Spider-Man: Far from Home   \n",
       "3              Jurassic World   \n",
       "4  The Twilight Saga: Eclipse   \n",
       "\n",
       "                                                plot     gross  \\\n",
       "0  After the devastating events of Avengers: Infi...  32839486   \n",
       "1  A selfish prince is cursed to become a monster...  13501376   \n",
       "2  Following the events of Avengers: Endgame, Spi...  10578935   \n",
       "3  A new theme park, built on the original site o...  11121208   \n",
       "4  As a string of mysterious killings grips Seatt...   6317882   \n",
       "\n",
       "                              distributor       budget released_data Field5  \\\n",
       "0     Walt Disney Studios Motion Pictures  356000000.0     4/24/2019  PG-13   \n",
       "1     Walt Disney Studios Motion Pictures  160000000.0     3/16/2017     PG   \n",
       "2                 Sony Pictures Releasing  160000000.0      7/3/2019  PG-13   \n",
       "3  Universal Pictures International (UPI)  150000000.0     6/10/2015  PG-13   \n",
       "4                           Pioneer Films   68000000.0     6/30/2010  PG-13   \n",
       "\n",
       "   runtime genre_1    genre_2  genre_3  genre_4 Unnamed: 12  \n",
       "0      181  Action  Adventure    Drama   Sci-Fi         NaN  \n",
       "1      129  Family    Fantasy  Musical  Romance         NaN  \n",
       "2      129  Action  Adventure   Sci-Fi      NaN         NaN  \n",
       "3      124  Action  Adventure   Sci-Fi      NaN         NaN  \n",
       "4      124  Action      Drama  Fantasy  Romance         NaN  "
      ]
     },
     "execution_count": 3,
     "metadata": {},
     "output_type": "execute_result"
    }
   ],
   "source": [
    "data.head()"
   ]
  },
  {
   "cell_type": "markdown",
   "metadata": {},
   "source": [
    "**DATA CLEANING**"
   ]
  },
  {
   "cell_type": "code",
   "execution_count": 4,
   "metadata": {},
   "outputs": [
    {
     "data": {
      "text/plain": [
       "0    32839486\n",
       "1    13501376\n",
       "2    10578935\n",
       "3    11121208\n",
       "4     6317882\n",
       "Name: gross, dtype: int64"
      ]
     },
     "execution_count": 4,
     "metadata": {},
     "output_type": "execute_result"
    }
   ],
   "source": [
    "data['gross'].head()"
   ]
  },
  {
   "cell_type": "code",
   "execution_count": 5,
   "metadata": {},
   "outputs": [
    {
     "data": {
      "text/plain": [
       "0"
      ]
     },
     "execution_count": 5,
     "metadata": {},
     "output_type": "execute_result"
    }
   ],
   "source": [
    "data['gross'].isna().sum() "
   ]
  },
  {
   "cell_type": "code",
   "execution_count": 6,
   "metadata": {},
   "outputs": [
    {
     "data": {
      "text/plain": [
       "Title             object\n",
       "plot              object\n",
       "gross              int64\n",
       "distributor       object\n",
       "budget           float64\n",
       "released_data     object\n",
       "Field5            object\n",
       "runtime            int64\n",
       "genre_1           object\n",
       "genre_2           object\n",
       "genre_3           object\n",
       "genre_4           object\n",
       "Unnamed: 12       object\n",
       "dtype: object"
      ]
     },
     "execution_count": 6,
     "metadata": {},
     "output_type": "execute_result"
    }
   ],
   "source": [
    "data.dtypes"
   ]
  },
  {
   "cell_type": "code",
   "execution_count": 7,
   "metadata": {},
   "outputs": [],
   "source": [
    "data['released_data'] = pd.to_datetime(data['released_data'], errors='coerce')"
   ]
  },
  {
   "cell_type": "code",
   "execution_count": 8,
   "metadata": {},
   "outputs": [
    {
     "data": {
      "text/plain": [
       "0   2019-04-24\n",
       "1   2017-03-16\n",
       "2   2019-07-03\n",
       "3   2015-06-10\n",
       "4   2010-06-30\n",
       "Name: released_data, dtype: datetime64[ns]"
      ]
     },
     "execution_count": 8,
     "metadata": {},
     "output_type": "execute_result"
    }
   ],
   "source": [
    "data['released_data'].head()"
   ]
  },
  {
   "cell_type": "code",
   "execution_count": 9,
   "metadata": {},
   "outputs": [],
   "source": [
    "data['year_released'] = pd.DatetimeIndex(data['released_data']).year"
   ]
  },
  {
   "cell_type": "code",
   "execution_count": 10,
   "metadata": {},
   "outputs": [
    {
     "data": {
      "text/plain": [
       "Title                    object\n",
       "plot                     object\n",
       "gross                     int64\n",
       "distributor              object\n",
       "budget                  float64\n",
       "released_data    datetime64[ns]\n",
       "Field5                   object\n",
       "runtime                   int64\n",
       "genre_1                  object\n",
       "genre_2                  object\n",
       "genre_3                  object\n",
       "genre_4                  object\n",
       "Unnamed: 12              object\n",
       "year_released           float64\n",
       "dtype: object"
      ]
     },
     "execution_count": 10,
     "metadata": {},
     "output_type": "execute_result"
    }
   ],
   "source": [
    "data.dtypes"
   ]
  },
  {
   "cell_type": "code",
   "execution_count": 12,
   "metadata": {},
   "outputs": [
    {
     "data": {
      "text/plain": [
       "12"
      ]
     },
     "execution_count": 12,
     "metadata": {},
     "output_type": "execute_result"
    }
   ],
   "source": [
    "data['plot'].isna().sum() "
   ]
  },
  {
   "cell_type": "code",
   "execution_count": 13,
   "metadata": {},
   "outputs": [
    {
     "data": {
      "text/plain": [
       "<matplotlib.axes._subplots.AxesSubplot at 0x21582060308>"
      ]
     },
     "execution_count": 13,
     "metadata": {},
     "output_type": "execute_result"
    },
    {
     "data": {
      "image/png": "[encoded data removed]",
      "text/plain": [
       "<Figure size 432x288 with 1 Axes>"
      ]
     },
     "metadata": {
      "needs_background": "light"
     },
     "output_type": "display_data"
    }
   ],
   "source": [
    "sns.distplot(data['gross'])"
   ]
  },
  {
   "cell_type": "code",
   "execution_count": 14,
   "metadata": {},
   "outputs": [
    {
     "data": {
      "text/plain": [
       "count    9.970000e+02\n",
       "mean     1.774621e+06\n",
       "std      2.974275e+06\n",
       "min      1.213800e+04\n",
       "25%      2.762920e+05\n",
       "50%      6.680860e+05\n",
       "75%      2.035311e+06\n",
       "max      3.283949e+07\n",
       "Name: gross, dtype: float64"
      ]
     },
     "execution_count": 14,
     "metadata": {},
     "output_type": "execute_result"
    }
   ],
   "source": [
    "data['gross'].describe()"
   ]
  },
  {
   "cell_type": "markdown",
   "metadata": {},
   "source": [
    "**CORRELATION**"
   ]
  },
  {
   "cell_type": "code",
   "execution_count": 15,
   "metadata": {},
   "outputs": [
    {
     "data": {
      "text/html": [
       "<div>\n",
       "<style scoped>\n",
       "    .dataframe tbody tr th:only-of-type {\n",
       "        vertical-align: middle;\n",
       "    }\n",
       "\n",
       "    .dataframe tbody tr th {\n",
       "        vertical-align: top;\n",
       "    }\n",
       "\n",
       "    .dataframe thead th {\n",
       "        text-align: right;\n",
       "    }\n",
       "</style>\n",
       "<table border=\"1\" class=\"dataframe\">\n",
       "  <thead>\n",
       "    <tr style=\"text-align: right;\">\n",
       "      <th></th>\n",
       "      <th>gross</th>\n",
       "      <th>budget</th>\n",
       "      <th>runtime</th>\n",
       "      <th>year_released</th>\n",
       "    </tr>\n",
       "  </thead>\n",
       "  <tbody>\n",
       "    <tr>\n",
       "      <td>gross</td>\n",
       "      <td>1.000000</td>\n",
       "      <td>0.635016</td>\n",
       "      <td>0.185017</td>\n",
       "      <td>0.250254</td>\n",
       "    </tr>\n",
       "    <tr>\n",
       "      <td>budget</td>\n",
       "      <td>0.635016</td>\n",
       "      <td>1.000000</td>\n",
       "      <td>0.507596</td>\n",
       "      <td>0.051178</td>\n",
       "    </tr>\n",
       "    <tr>\n",
       "      <td>runtime</td>\n",
       "      <td>0.185017</td>\n",
       "      <td>0.507596</td>\n",
       "      <td>1.000000</td>\n",
       "      <td>0.190731</td>\n",
       "    </tr>\n",
       "    <tr>\n",
       "      <td>year_released</td>\n",
       "      <td>0.250254</td>\n",
       "      <td>0.051178</td>\n",
       "      <td>0.190731</td>\n",
       "      <td>1.000000</td>\n",
       "    </tr>\n",
       "  </tbody>\n",
       "</table>\n",
       "</div>"
      ],
      "text/plain": [
       "                  gross    budget   runtime  year_released\n",
       "gross          1.000000  0.635016  0.185017       0.250254\n",
       "budget         0.635016  1.000000  0.507596       0.051178\n",
       "runtime        0.185017  0.507596  1.000000       0.190731\n",
       "year_released  0.250254  0.051178  0.190731       1.000000"
      ]
     },
     "execution_count": 15,
     "metadata": {},
     "output_type": "execute_result"
    }
   ],
   "source": [
    "correlation_coefficients = data.corr()\n",
    "correlation_coefficients"
   ]
  },
  {
   "cell_type": "code",
   "execution_count": 16,
   "metadata": {},
   "outputs": [
    {
     "data": {
      "text/plain": [
       "<matplotlib.axes._subplots.AxesSubplot at 0x215824a2fc8>"
      ]
     },
     "execution_count": 16,
     "metadata": {},
     "output_type": "execute_result"
    },
    {
     "data": {
      "image/png": "[encoded data removed]",
      "text/plain": [
       "<Figure size 432x288 with 2 Axes>"
      ]
     },
     "metadata": {
      "needs_background": "light"
     },
     "output_type": "display_data"
    }
   ],
   "source": [
    "sns.heatmap(correlation_coefficients,annot=True,cmap=\"Blues\")"
   ]
  },
  {
   "cell_type": "code",
   "execution_count": null,
   "metadata": {},
   "outputs": [],
   "source": []
  }
 ],
 "metadata": {
  "kernelspec": {
   "display_name": "Python 3",
   "language": "python",
   "name": "python3"
  },
  "language_info": {
   "codemirror_mode": {
    "name": "ipython",
    "version": 3
   },
   "file_extension": ".py",
   "mimetype": "text/x-python",
   "name": "python",
   "nbconvert_exporter": "python",
   "pygments_lexer": "ipython3",
   "version": "3.7.4"
  }
 },
 "nbformat": 4,
 "nbformat_minor": 2
}
